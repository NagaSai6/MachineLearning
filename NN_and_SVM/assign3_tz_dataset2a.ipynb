{
 "cells": [
  {
   "cell_type": "code",
   "execution_count": 7,
   "id": "editorial-germany",
   "metadata": {},
   "outputs": [],
   "source": [
    "import numpy as np\n",
    "import pandas as pd\n",
    "import matplotlib.pyplot as plt\n",
    "from matplotlib import cm\n",
    "from matplotlib.colors import ListedColormap\n",
    "from numpy.linalg import inv, norm\n",
    "from mpl_toolkits import mplot3d\n",
    "from scipy.stats import multivariate_normal\n",
    "import seaborn as sns\n",
    "from sklearn.cluster import KMeans \n",
    "from sklearn import neighbors, datasets\n",
    "import os\n",
    "import math\n",
    "import pickle\n",
    "from sklearn.linear_model import Perceptron\n",
    "from sklearn.multiclass import OneVsOneClassifier, OneVsRestClassifier\n",
    "from sklearn.svm import SVC\n",
    "from scipy.special import softmax, expit\n",
    "\n",
    "from sklearn.metrics import classification_report, confusion_matrix , accuracy_score, log_loss\n",
    "import seaborn as sns\n",
    "import tensorflow as tf\n",
    "from tensorflow import keras\n",
    "\n",
    "from numpy.random import seed\n",
    "from tensorflow.random import set_seed\n",
    "\n",
    "# few global variables\n",
    "ind = [1,2,3,9]\n",
    "cmap_bold = [sns.color_palette('bright')[i] for i in ind]\n",
    "cmap_light = [sns.color_palette('dark')[i] for i in ind]"
   ]
  },
  {
   "cell_type": "markdown",
   "id": "abstract-defendant",
   "metadata": {},
   "source": [
    "# Dataset 2A"
   ]
  },
  {
   "cell_type": "code",
   "execution_count": 1,
   "id": "familiar-tuner",
   "metadata": {},
   "outputs": [
    {
     "name": "stdout",
     "output_type": "stream",
     "text": [
      "0 highway\n",
      "1 insidecity\n",
      "2 mountain\n",
      "3 opencountry\n",
      "4 tallbuilding\n"
     ]
    }
   ],
   "source": [
    "classes = ['highway', 'insidecity', 'mountain', 'opencountry', 'tallbuilding']\n",
    "class_to_ind = {}\n",
    "for i,c in enumerate(classes):\n",
    "    class_to_ind[c] = i\n",
    "class_to_ind\n",
    "\n",
    "for (i,c) in enumerate(classes):\n",
    "    print(i,c,sep=' ')\n"
   ]
  },
  {
   "cell_type": "code",
   "execution_count": 4,
   "id": "downtown-prairie",
   "metadata": {},
   "outputs": [
    {
     "name": "stdout",
     "output_type": "stream",
     "text": [
      "Training Set : \n",
      "highway\n",
      "  highway 182\n",
      "insidecity\n",
      "  insidecity 215\n",
      "mountain\n",
      "  mountain 261\n",
      "opencountry\n",
      "  opencountry 287\n",
      "tallbuilding\n",
      "  tallbuilding 249\n",
      "Dev Set : \n",
      "  highway 52\n",
      "  insidecity 62\n",
      "  mountain 75\n",
      "  opencountry 82\n",
      "  tallbuilding 71\n"
     ]
    },
    {
     "data": {
      "text/plain": [
       "(204,)"
      ]
     },
     "execution_count": 4,
     "metadata": {},
     "output_type": "execute_result"
    }
   ],
   "source": [
    "# Loading Dataset 2A\n",
    "y_train = []\n",
    "x_train = None\n",
    "\n",
    "x_class_tr = {} ; y_class_tr = {}  # dict for storing the training points of each class separately\n",
    "x_class_va = {} ; y_class_va = {} # dict for storing the validations points of each class separately\n",
    "x_class_te = {} ; y_class_te = {}  # dict for storing the test points of each class separately\n",
    "len_tr, len_te , len_va = {},{},{}\n",
    "\n",
    "print('Training Set : ')\n",
    "for (i,c) in enumerate(classes):\n",
    "    print(c)\n",
    "    fil = 'E:\\\\ubuntu2-windows2\\\\Sem6\\\\PRML - CS5691\\\\Assignments_2021\\\\Assignment2/Dataset_2A/'+c+'/train.csv'\n",
    "    df = pd.read_csv(fil)\n",
    "    x_class_tr[i] = np.array(df.iloc[:,range(1,25,1)])\n",
    "    len_tr[i] = df.shape[0] \n",
    "    if(x_train is None):\n",
    "        x_train = np.array(df.iloc[:,range(1,25,1)])\n",
    "    else:\n",
    "        x_train = np.r_[x_train, np.array(df.iloc[:,range(1,25,1)])]\n",
    "    y_train = y_train + [class_to_ind[c]]*df.shape[0]\n",
    "    print(' ',c, df.shape[0])\n",
    "y_train = np.array(y_train)\n",
    "\n",
    "y_test = []\n",
    "y_va = []\n",
    "x_va = None\n",
    "x_test = None\n",
    "print('Dev Set : ')\n",
    "for (i,c) in enumerate(classes):\n",
    "    fil = 'E:\\\\ubuntu2-windows2\\\\Sem6\\\\PRML - CS5691\\\\Assignments_2021\\\\Assignment2/Dataset_2A/'+c+'/dev.csv'\n",
    "    df = pd.read_csv(fil)\n",
    "    nc = df.shape[0]\n",
    "    x_class_va[i] = np.array(df.iloc[:int(0.6*nc),range(1,25,1)])\n",
    "    x_class_te[i] = np.array(df.iloc[int(0.6*nc):,range(1,25,1)])\n",
    "    len_va[i] = int(0.6*nc)\n",
    "    len_te[i] = nc-int(0.6*nc)\n",
    "    if(x_test is None):\n",
    "        x_test = np.array(df.iloc[int(0.6*nc):,range(1,25,1)])\n",
    "        x_va = np.array(df.iloc[:int(0.6*nc),range(1,25,1)])\n",
    "    else:\n",
    "        x_test = np.r_[x_test, np.array(df.iloc[int(0.6*nc):,range(1,25,1)])]\n",
    "        x_va = np.r_[x_va, np.array(df.iloc[:int(0.6*nc),range(1,25,1)])]\n",
    "    y_va = y_va + [class_to_ind[c]]*int(0.6*nc)\n",
    "    y_test = y_test + [class_to_ind[c]]*(nc - int(0.6*nc))\n",
    "    print(' ',c, df.shape[0])\n",
    "y_test = np.array(y_test)\n",
    "y_va = np.array(y_va)\n",
    "y_va.shape"
   ]
  },
  {
   "cell_type": "code",
   "execution_count": 15,
   "id": "first-genealogy",
   "metadata": {},
   "outputs": [],
   "source": [
    "#utilities\n",
    "def build_mlfnn(hidden_neurons,num_layers=1,num_classes=4): #hidden neurons is a list of number of hidden units in each hidden layer\n",
    "    model=tf.keras.models.Sequential()\n",
    "    model.add(tf.keras.Input(shape=(24)))\n",
    "    model.add(tf.keras.layers.Dense(hidden_neurons[0],activation='relu'))\n",
    "    if num_layers==2:\n",
    "        model.add(tf .keras.layers.Dense(hidden_neurons[1],activation='relu'))\n",
    "\n",
    "    model.add(tf.keras.layers.Dense(num_classes,activation='softmax'))\n",
    "    return model\n",
    "\n",
    "def train_model(model,epochs,X_train,Y_train,X_valid,Y_valid,verbose = 0):\n",
    "    model.compile(loss=tf.keras.losses.sparse_categorical_crossentropy,optimizer=keras.optimizers.SGD(lr=1),metrics=['accuracy'])\n",
    "    history=model.fit(X_train,Y_train,epochs=epochs,batch_size=32,validation_data=(X_valid,Y_valid),verbose=verbose)\n",
    "    return history"
   ]
  },
  {
   "cell_type": "code",
   "execution_count": 25,
   "id": "engaging-asthma",
   "metadata": {},
   "outputs": [
    {
     "name": "stdout",
     "output_type": "stream",
     "text": [
      "\n",
      " *************************************************** \n",
      "\n",
      "38/38 [==============================] - 0s 840us/step - loss: 0.6660 - accuracy: 0.7538\n",
      "7/7 [==============================] - 0s 712us/step - loss: 1.6084 - accuracy: 0.5343\n",
      "\n",
      " *************************************************** \n",
      "\n",
      " 1/38 [..............................] - ETA: 0s - loss: 0.7296 - accuracy: 0.8125WARNING:tensorflow:Callbacks method `on_test_batch_end` is slow compared to the batch time (batch time: 0.0000s vs `on_test_batch_end` time: 0.0010s). Check your callbacks.\n",
      "38/38 [==============================] - 0s 817us/step - loss: 1.0176 - accuracy: 0.5787\n",
      "7/7 [==============================] - 0s 765us/step - loss: 1.4821 - accuracy: 0.4657\n",
      "\n",
      " *************************************************** \n",
      "\n",
      "38/38 [==============================] - 0s 769us/step - loss: 0.9618 - accuracy: 0.6080\n",
      "7/7 [==============================] - 0s 780us/step - loss: 1.5144 - accuracy: 0.4853\n",
      "\n",
      " *************************************************** \n",
      "\n",
      "38/38 [==============================] - 0s 723us/step - loss: 0.9608 - accuracy: 0.6080\n",
      "7/7 [==============================] - 0s 712us/step - loss: 1.6197 - accuracy: 0.4755\n",
      "\n",
      " *************************************************** \n",
      "\n",
      "38/38 [==============================] - 0s 697us/step - loss: 0.7684 - accuracy: 0.6884\n",
      "7/7 [==============================] - 0s 680us/step - loss: 1.7517 - accuracy: 0.5196\n",
      "\n",
      " *************************************************** \n",
      "\n",
      "38/38 [==============================] - 0s 799us/step - loss: 0.8169 - accuracy: 0.6650\n",
      "7/7 [==============================] - 0s 774us/step - loss: 1.4978 - accuracy: 0.5049\n",
      "\n",
      " *************************************************** \n",
      "\n",
      "38/38 [==============================] - 0s 685us/step - loss: 0.7339 - accuracy: 0.7136\n",
      "7/7 [==============================] - 0s 997us/step - loss: 1.6250 - accuracy: 0.5098\n",
      "\n",
      " *************************************************** \n",
      "\n",
      "38/38 [==============================] - 0s 695us/step - loss: 0.7364 - accuracy: 0.7060\n",
      "7/7 [==============================] - 0s 750us/step - loss: 1.6263 - accuracy: 0.5294\n",
      "\n",
      " *************************************************** \n",
      "\n",
      "38/38 [==============================] - 0s 783us/step - loss: 0.7418 - accuracy: 0.7161\n",
      "7/7 [==============================] - 0s 855us/step - loss: 1.9371 - accuracy: 0.5392\n",
      "\n",
      " *************************************************** \n",
      "\n",
      "38/38 [==============================] - 0s 933us/step - loss: 0.8972 - accuracy: 0.6449\n",
      "7/7 [==============================] - 0s 855us/step - loss: 1.6835 - accuracy: 0.4804\n",
      "\n",
      " *************************************************** \n",
      "\n",
      "38/38 [==============================] - 0s 1ms/step - loss: 0.5460 - accuracy: 0.7764\n",
      "7/7 [==============================] - 0s 733us/step - loss: 2.1877 - accuracy: 0.4902\n",
      "\n",
      " *************************************************** \n",
      "\n",
      "38/38 [==============================] - 0s 1ms/step - loss: 0.6104 - accuracy: 0.7546\n",
      "7/7 [==============================] - 0s 1ms/step - loss: 2.1340 - accuracy: 0.4951\n",
      "\n",
      " *************************************************** \n",
      "\n",
      "38/38 [==============================] - 0s 662us/step - loss: 0.6619 - accuracy: 0.7429\n",
      "7/7 [==============================] - 0s 855us/step - loss: 1.8366 - accuracy: 0.5392\n",
      "\n",
      " *************************************************** \n",
      "\n",
      "38/38 [==============================] - 0s 713us/step - loss: 0.6471 - accuracy: 0.7454\n",
      "7/7 [==============================] - 0s 765us/step - loss: 1.9320 - accuracy: 0.5294\n",
      "\n",
      " *************************************************** \n",
      "\n",
      " 1/38 [..............................] - ETA: 0s - loss: 0.2264 - accuracy: 0.9062WARNING:tensorflow:Callbacks method `on_test_batch_begin` is slow compared to the batch time (batch time: 0.0000s vs `on_test_batch_begin` time: 0.0000s). Check your callbacks.\n",
      "38/38 [==============================] - 0s 777us/step - loss: 0.6158 - accuracy: 0.7420\n",
      "1/7 [===>..........................] - ETA: 0s - loss: 2.2406 - accuracy: 0.5312WARNING:tensorflow:Callbacks method `on_test_batch_end` is slow compared to the batch time (batch time: 0.0000s vs `on_test_batch_end` time: 0.0010s). Check your callbacks.\n",
      "7/7 [==============================] - 0s 1ms/step - loss: 1.9226 - accuracy: 0.5343\n",
      "\n",
      " *************************************************** \n",
      "\n",
      "38/38 [==============================] - 0s 868us/step - loss: 0.6468 - accuracy: 0.7412\n",
      "7/7 [==============================] - 0s 746us/step - loss: 2.0354 - accuracy: 0.5000\n",
      "\n",
      " *************************************************** \n",
      "\n",
      "38/38 [==============================] - 0s 815us/step - loss: 0.5901 - accuracy: 0.7714\n",
      "1/7 [===>..........................] - ETA: 0s - loss: 2.3167 - accuracy: 0.4062WARNING:tensorflow:Callbacks method `on_test_batch_end` is slow compared to the batch time (batch time: 0.0000s vs `on_test_batch_end` time: 0.0010s). Check your callbacks.\n",
      "7/7 [==============================] - 0s 889us/step - loss: 2.1110 - accuracy: 0.5343\n",
      "\n",
      " *************************************************** \n",
      "\n",
      "38/38 [==============================] - 0s 751us/step - loss: 0.6125 - accuracy: 0.7596\n",
      "7/7 [==============================] - 0s 693us/step - loss: 1.8453 - accuracy: 0.5147\n",
      "\n",
      " *************************************************** \n",
      "\n",
      "38/38 [==============================] - 0s 697us/step - loss: 0.7035 - accuracy: 0.7203\n",
      "7/7 [==============================] - 0s 855us/step - loss: 2.0648 - accuracy: 0.5098\n",
      "\n",
      " *************************************************** \n",
      "\n",
      "38/38 [==============================] - 0s 710us/step - loss: 0.5813 - accuracy: 0.7764\n",
      "7/7 [==============================] - 0s 899us/step - loss: 1.8719 - accuracy: 0.5049\n",
      "\n",
      " *************************************************** \n",
      "\n",
      "38/38 [==============================] - 0s 679us/step - loss: 0.5592 - accuracy: 0.7940\n",
      "7/7 [==============================] - 0s 855us/step - loss: 1.5955 - accuracy: 0.5196\n",
      "\n",
      " *************************************************** \n",
      "\n",
      "38/38 [==============================] - 0s 794us/step - loss: 0.5894 - accuracy: 0.7772\n",
      "7/7 [==============================] - 0s 629us/step - loss: 1.8663 - accuracy: 0.5343\n",
      "\n",
      " *************************************************** \n",
      "\n",
      "38/38 [==============================] - 0s 721us/step - loss: 0.5023 - accuracy: 0.8074\n",
      "7/7 [==============================] - 0s 887us/step - loss: 2.3190 - accuracy: 0.5147\n",
      "\n",
      " *************************************************** \n",
      "\n",
      "38/38 [==============================] - 0s 733us/step - loss: 0.4981 - accuracy: 0.8199\n",
      "7/7 [==============================] - 0s 1ms/step - loss: 1.9470 - accuracy: 0.5343\n",
      "\n",
      " *************************************************** \n",
      "\n",
      "38/38 [==============================] - 0s 781us/step - loss: 0.5012 - accuracy: 0.8074\n",
      "1/7 [===>..........................] - ETA: 0s - loss: 2.7899 - accuracy: 0.4375WARNING:tensorflow:Callbacks method `on_test_batch_end` is slow compared to the batch time (batch time: 0.0000s vs `on_test_batch_end` time: 0.0010s). Check your callbacks.\n",
      "7/7 [==============================] - 0s 866us/step - loss: 2.2817 - accuracy: 0.5000\n",
      "\n",
      " *************************************************** \n",
      "\n",
      "38/38 [==============================] - 0s 738us/step - loss: 0.4717 - accuracy: 0.8116\n",
      "1/7 [===>..........................] - ETA: 0s - loss: 2.3701 - accuracy: 0.5000WARNING:tensorflow:Callbacks method `on_test_batch_end` is slow compared to the batch time (batch time: 0.0000s vs `on_test_batch_end` time: 0.0010s). Check your callbacks.\n",
      "7/7 [==============================] - 0s 998us/step - loss: 1.9880 - accuracy: 0.5686\n",
      "\n",
      " *************************************************** \n",
      "\n",
      "38/38 [==============================] - 0s 805us/step - loss: 0.4809 - accuracy: 0.8283\n",
      "7/7 [==============================] - 0s 1ms/step - loss: 1.9724 - accuracy: 0.5147\n",
      "h_neurons training loss training accuracy validation loss validation accuracy\n",
      "([20, 20, 20], 0.666, 75.4, 1.608, 53.400000000000006)\n",
      "([12, 12], 1.018, 57.9, 1.482, 46.6)\n",
      "([13, 13], 0.962, 60.8, 1.514, 48.5)\n",
      "([14, 14], 0.961, 60.8, 1.62, 47.5)\n",
      "([15, 15], 0.768, 68.8, 1.752, 52.0)\n",
      "([16, 16], 0.817, 66.5, 1.498, 50.5)\n",
      "([17, 17], 0.734, 71.39999999999999, 1.625, 51.0)\n",
      "([18, 18], 0.736, 70.6, 1.626, 52.900000000000006)\n",
      "([20, 20], 0.742, 71.6, 1.937, 53.900000000000006)\n",
      "([22, 22], 0.897, 64.5, 1.683, 48.0)\n",
      "([24, 24], 0.546, 77.60000000000001, 2.188, 49.0)\n",
      "([26, 26], 0.61, 75.5, 2.134, 49.5)\n",
      "([24], 0.662, 74.3, 1.837, 53.900000000000006)\n",
      "([25], 0.647, 74.5, 1.932, 52.900000000000006)\n",
      "([26], 0.616, 74.2, 1.923, 53.400000000000006)\n",
      "([27], 0.647, 74.1, 2.035, 50.0)\n",
      "([28], 0.59, 77.10000000000001, 2.111, 53.400000000000006)\n",
      "([29], 0.612, 76.0, 1.845, 51.5)\n",
      "([30], 0.704, 72.0, 2.065, 51.0)\n",
      "([31], 0.581, 77.60000000000001, 1.872, 50.5)\n",
      "([32], 0.559, 79.4, 1.596, 52.0)\n",
      "([35], 0.589, 77.7, 1.866, 53.400000000000006)\n",
      "([36], 0.502, 80.7, 2.319, 51.5)\n",
      "([40], 0.498, 82.0, 1.947, 53.400000000000006)\n",
      "([44], 0.501, 80.7, 2.282, 50.0)\n",
      "([48], 0.472, 81.2, 1.988, 56.89999999999999)\n",
      "([52], 0.481, 82.8, 1.972, 51.5)\n"
     ]
    }
   ],
   "source": [
    "# tables of classification accuracy for different values of hyperparameters\n",
    "seed(0) \n",
    "set_seed(0)\n",
    "\n",
    "epochs = 200\n",
    "model_metrics = {}\n",
    "\n",
    "list_h_neurons = [[20,20,20],[12,12],[13,13],[14,14],[15,15],[16,16],[17,17],[18,18],[20,20],[22,22],[24,24],[26,26],[24],[25],[26],[27],[28],[29],[30],[31],[32],[35],[36],[40],[44],[48],[52]]\n",
    "for (count,h_neurons) in enumerate(list_h_neurons):\n",
    "    model = build_mlfnn(hidden_neurons=h_neurons,num_layers=len(h_neurons),num_classes=5)\n",
    "    train_model(model,epochs,x_train,y_train,x_va,y_va)\n",
    "    print('\\n *************************************************** \\n')\n",
    "    y_tr_predict = model.predict(x_train) ; y_tr_predict = np.argmax(y_tr_predict,axis=1)\n",
    "    y_va_predict = model.predict(x_va)    ; y_va_predict = np.argmax(y_va_predict,axis=1)\n",
    "    # y_te_predict = model.predict(x_te)    ; y_te_predict = np.argmax(y_te_predict,axis=1) \n",
    "    \n",
    "    tr_loss, tr_acc = model.evaluate(x_train,y_train,verbose=1)\n",
    "    va_loss, va_acc = model.evaluate(x_va,y_va,verbose=1)\n",
    "    model_metrics[count] = (h_neurons,round(tr_loss,3),round(tr_acc,3)*100,round(va_loss,3),round(va_acc,3)*100)\n",
    "print('h_neurons' , 'training loss', 'training accuracy', 'validation loss' , 'validation accuracy')\n",
    "for i in range(len(model_metrics)):\n",
    "    print(model_metrics[i])"
   ]
  },
  {
   "cell_type": "code",
   "execution_count": 26,
   "id": "satisfactory-government",
   "metadata": {},
   "outputs": [
    {
     "name": "stdout",
     "output_type": "stream",
     "text": [
      "\n",
      " *************************************************** \n",
      "\n",
      "38/38 [==============================] - 0s 736us/step - loss: 0.6660 - accuracy: 0.7538\n",
      "7/7 [==============================] - 0s 909us/step - loss: 1.6084 - accuracy: 0.5343\n",
      "\n",
      " *************************************************** \n",
      "\n",
      "38/38 [==============================] - 0s 768us/step - loss: 0.6730 - accuracy: 0.7412\n",
      "7/7 [==============================] - 0s 1ms/step - loss: 1.9243 - accuracy: 0.5000\n",
      "\n",
      " *************************************************** \n",
      "\n",
      "38/38 [==============================] - 0s 757us/step - loss: 0.6676 - accuracy: 0.7429\n",
      "7/7 [==============================] - 0s 717us/step - loss: 1.6914 - accuracy: 0.5245\n",
      "\n",
      " *************************************************** \n",
      "\n",
      "38/38 [==============================] - 0s 764us/step - loss: 0.6816 - accuracy: 0.7387\n",
      "7/7 [==============================] - 0s 1ms/step - loss: 1.6238 - accuracy: 0.5049\n",
      "\n",
      " *************************************************** \n",
      "\n",
      "38/38 [==============================] - 0s 787us/step - loss: 0.3762 - accuracy: 0.8543\n",
      "7/7 [==============================] - 0s 1ms/step - loss: 2.2862 - accuracy: 0.4951\n",
      "\n",
      " *************************************************** \n",
      "\n",
      "38/38 [==============================] - 0s 707us/step - loss: 0.4490 - accuracy: 0.8141\n",
      "7/7 [==============================] - 0s 1ms/step - loss: 2.8286 - accuracy: 0.4804\n",
      "\n",
      " *************************************************** \n",
      "\n",
      "38/38 [==============================] - 0s 1ms/step - loss: 0.3069 - accuracy: 0.8894\n",
      "7/7 [==============================] - 0s 998us/step - loss: 2.4590 - accuracy: 0.5343\n",
      "\n",
      " *************************************************** \n",
      "\n",
      " 1/38 [..............................] - ETA: 0s - loss: 0.2012 - accuracy: 0.9375WARNING:tensorflow:Callbacks method `on_test_batch_end` is slow compared to the batch time (batch time: 0.0000s vs `on_test_batch_end` time: 0.0010s). Check your callbacks.\n",
      "38/38 [==============================] - 0s 834us/step - loss: 0.2961 - accuracy: 0.8894\n",
      "7/7 [==============================] - 0s 852us/step - loss: 2.6418 - accuracy: 0.5441\n",
      "h_neurons training loss training accuracy validation loss validation accuracy\n",
      "([20, 20, 20], 0.666, 75.4, 1.608, 53.400000000000006)\n",
      "([22, 22, 22], 0.673, 74.1, 1.924, 50.0)\n",
      "([24, 24, 24], 0.668, 74.3, 1.691, 52.5)\n",
      "([28, 28, 28], 0.682, 73.9, 1.624, 50.5)\n",
      "([60], 0.376, 85.39999999999999, 2.286, 49.5)\n",
      "([70], 0.449, 81.39999999999999, 2.829, 48.0)\n",
      "([80], 0.307, 88.9, 2.459, 53.400000000000006)\n",
      "([90], 0.296, 88.9, 2.642, 54.400000000000006)\n"
     ]
    }
   ],
   "source": [
    "# tables of classification accuracy for different values of hyperparameters\n",
    "seed(0) \n",
    "set_seed(0)\n",
    "\n",
    "epochs = 200\n",
    "model_metrics = {}\n",
    "\n",
    "list_h_neurons = [[20,20,20],[22,22,22],[24,24,24],[28,28,28],[60],[70],[80],[90]]\n",
    "for (count,h_neurons) in enumerate(list_h_neurons):\n",
    "    model = build_mlfnn(hidden_neurons=h_neurons,num_layers=len(h_neurons),num_classes=5)\n",
    "    train_model(model,epochs,x_train,y_train,x_va,y_va)\n",
    "    print('\\n *************************************************** \\n')\n",
    "    y_tr_predict = model.predict(x_train) ; y_tr_predict = np.argmax(y_tr_predict,axis=1)\n",
    "    y_va_predict = model.predict(x_va)    ; y_va_predict = np.argmax(y_va_predict,axis=1)\n",
    "    # y_te_predict = model.predict(x_te)    ; y_te_predict = np.argmax(y_te_predict,axis=1) \n",
    "    \n",
    "    tr_loss, tr_acc = model.evaluate(x_train,y_train,verbose=1)\n",
    "    va_loss, va_acc = model.evaluate(x_va,y_va,verbose=1)\n",
    "    model_metrics[count] = (h_neurons,round(tr_loss,3),round(tr_acc,3)*100,round(va_loss,3),round(va_acc,3)*100)\n",
    "print('h_neurons' , 'training loss', 'training accuracy', 'validation loss' , 'validation accuracy')\n",
    "for i in range(len(model_metrics)):\n",
    "    print(model_metrics[i])"
   ]
  },
  {
   "cell_type": "markdown",
   "id": "verbal-measurement",
   "metadata": {},
   "source": [
    "The best model according to the above two cells is the one with single hidden layer and 48 neurons"
   ]
  },
  {
   "cell_type": "code",
   "execution_count": 27,
   "id": "monetary-fighter",
   "metadata": {},
   "outputs": [
    {
     "name": "stdout",
     "output_type": "stream",
     "text": [
      "5/5 [==============================] - 0s 798us/step - loss: 1.8413 - accuracy: 0.5217\n",
      "1.841 52.173912525177\n"
     ]
    }
   ],
   "source": [
    "# classification accuracy of best model on test data\n",
    "seed(0)\n",
    "set_seed(0)\n",
    "epochs = 200\n",
    "best_h_neurons = [48]\n",
    "model = build_mlfnn(hidden_neurons=best_h_neurons,num_layers=len(best_h_neurons),num_classes=5)\n",
    "train_model(model,epochs,x_train,y_train,x_va,y_va)\n",
    "\n",
    "te_loss,te_acc = model.evaluate(x_test,y_test)\n",
    "print(round(te_loss,3),te_acc*100)"
   ]
  },
  {
   "cell_type": "code",
   "execution_count": 29,
   "id": "choice-nicaragua",
   "metadata": {},
   "outputs": [
    {
     "name": "stdout",
     "output_type": "stream",
     "text": [
      "38/38 [==============================] - 0s 807us/step - loss: 0.5264 - accuracy: 0.7839\n",
      "7/7 [==============================] - 0s 1ms/step - loss: 2.3208 - accuracy: 0.5098\n"
     ]
    },
    {
     "data": {
      "image/png": "[encoded data removed]",
      "text/plain": [
       "<Figure size 864x432 with 2 Axes>"
      ]
     },
     "metadata": {
      "needs_background": "light"
     },
     "output_type": "display_data"
    }
   ],
   "source": [
    "#confusion matrix for best model on Training and Test Data\n",
    "seed(0)\n",
    "set_seed(0)\n",
    "best_h_neurons = [48]\n",
    "epochs = 200\n",
    "model = build_mlfnn(hidden_neurons=best_h_neurons,num_layers=len(best_h_neurons),num_classes=5)\n",
    "train_model(model,epochs,x_train,y_train,x_va,y_va)\n",
    "\n",
    "yhat_tr = model.predict(x_train) ; yhat_tr = np.argmax(yhat_tr,axis=1)\n",
    "yhat_te = model.predict(x_test)  ; yhat_te = np.argmax(yhat_te,axis=1)\n",
    "model.evaluate(x_train,y_train) ; model.evaluate(x_va,y_va)\n",
    "\n",
    "fig = plt.figure(figsize=(12,6))\n",
    "plt.suptitle(f'confusion matrix of MLFFNN with num_hidden_layers {len(best_h_neurons)}, h_neurons: {best_h_neurons} on')\n",
    "for i in range(2):\n",
    "    plt.subplot(1,2,i+1)\n",
    "    cf = confusion_matrix(y_train,yhat_tr,normalize='true')if i==0 else confusion_matrix(y_test,yhat_te,normalize='true')\n",
    "    sns.heatmap(cf,annot=True,fmt='.2%',cmap='Blues',cbar=False)\n",
    "    plt.xlabel('Predicted Class')\n",
    "    plt.ylabel('Actual Class')\n",
    "    plt.title('Training Data' if i==0 else 'Test Data') \n",
    "plt.show()"
   ]
  },
  {
   "cell_type": "markdown",
   "id": "authentic-paper",
   "metadata": {},
   "source": [
    "## Gaussian SVM"
   ]
  },
  {
   "cell_type": "code",
   "execution_count": 36,
   "id": "imported-pollution",
   "metadata": {},
   "outputs": [
    {
     "name": "stdout",
     "output_type": "stream",
     "text": [
      "0.0001 0.001 0.01 0.1 1 10.0 gamma, training accuracy, validation accuracy:\n",
      "(0.0001, 0.507, 0.392)\n",
      "(0.001, 0.506, 0.397)\n",
      "(0.01, 0.563, 0.475)\n",
      "(0.1, 0.668, 0.529)\n",
      "(1, 0.885, 0.539)\n",
      "(10.0, 1.0, 0.515)\n"
     ]
    }
   ],
   "source": [
    "# checking the hyperparameter - gamma\n",
    "classes = ['highway', 'insidecity', 'mountain', 'opencountry', 'tallbuilding']\n",
    "gammas = [1e-4,1e-3,1e-2,1e-1,1,1e1] ; c = 100\n",
    "accs = [] # store tuples of (h_neurons,tr_acc,tr_loss,va_acc,va_loss)\n",
    "for gamma in gammas:\n",
    "    #creating a ovr classifier\n",
    "    print(gamma,end=' ')\n",
    "    classifier = SVC(kernel = 'rbf', gamma=gamma, C = c) \n",
    "    gaussian_ovr = OneVsRestClassifier(classifier)\n",
    "    gaussian_ovr.fit(x_train,y_train)\n",
    "\n",
    "    yhat_va = gaussian_ovr.predict(x_va)\n",
    "    yhat_tr = gaussian_ovr.predict(x_train)\n",
    "    \n",
    "    tr_acc  = accuracy_score(y_train,yhat_tr)\n",
    "    va_acc  = accuracy_score(y_va,yhat_va)\n",
    "    accs.append((gamma,round(tr_acc,3),round(va_acc,3)))\n",
    "\n",
    "print('gamma, training accuracy, validation accuracy:')\n",
    "for i in range(len(gammas)):\n",
    "    print(accs[i]) "
   ]
  },
  {
   "cell_type": "code",
   "execution_count": 37,
   "id": "indie-edinburgh",
   "metadata": {},
   "outputs": [
    {
     "name": "stdout",
     "output_type": "stream",
     "text": [
      "0.0001 0.001 0.01 0.1 1 10.0 100.0 1000.0 C, training accuracy, validation accuracy:\n",
      "(0.0001, 0.794, 0.539)\n",
      "(0.001, 0.848, 0.554)\n",
      "(0.01, 0.857, 0.534)\n",
      "(0.1, 0.86, 0.534)\n",
      "(1, 0.925, 0.534)\n",
      "(10.0, 0.997, 0.525)\n",
      "(100.0, 1.0, 0.515)\n",
      "(1000.0, 1.0, 0.515)\n"
     ]
    }
   ],
   "source": [
    "# checking the hyperparameter - c\n",
    "classes = ['highway', 'insidecity', 'mountain', 'opencountry', 'tallbuilding']\n",
    "cs= [1e-4,1e-3,1e-2,1e-1,1,1e1,1e2,1e3] ; gammma = 1\n",
    "accs = [] # store tuples of (h_neurons,tr_acc,tr_loss,va_acc,va_loss)\n",
    "for c in cs:\n",
    "    #creating a ovr classifier\n",
    "    print(c,end=' ')\n",
    "    classifier = SVC(kernel = 'rbf', gamma=gamma, C = c) \n",
    "    gaussian_ovr = OneVsRestClassifier(classifier)\n",
    "    gaussian_ovr.fit(x_train,y_train)\n",
    "\n",
    "    yhat_va = gaussian_ovr.predict(x_va)\n",
    "    yhat_tr = gaussian_ovr.predict(x_train)\n",
    "    \n",
    "    tr_acc  = accuracy_score(y_train,yhat_tr)\n",
    "    va_acc  = accuracy_score(y_va,yhat_va)\n",
    "    accs.append((c,round(tr_acc,3),round(va_acc,3)))\n",
    "\n",
    "print('C, training accuracy, validation accuracy:')\n",
    "for i in range(len(cs)):\n",
    "    print(accs[i]) "
   ]
  },
  {
   "cell_type": "markdown",
   "id": "accredited-genre",
   "metadata": {},
   "source": [
    "From the above two cells we decide to take gamma = 1 and c = 0.001"
   ]
  },
  {
   "cell_type": "code",
   "execution_count": 42,
   "id": "continental-instruction",
   "metadata": {},
   "outputs": [
    {
     "name": "stdout",
     "output_type": "stream",
     "text": [
      "Test data accuracy of best model is 49.275362318840585%\n",
      "Training data accuracy of best model is 57.03517587939698%\n"
     ]
    }
   ],
   "source": [
    "# classfication accuracy of best model on test data\n",
    "gamma , c = 1 , 0.001\n",
    "classifier = SVC(kernel = 'rbf' , gamma = gamma , C = c) \n",
    "gaussian_ovr = OneVsRestClassifier(classifier)\n",
    "gaussian_ovr.fit(x_train,y_train)\n",
    "\n",
    "yhat_te= gaussian_ovr.predict(x_test)\n",
    "yhat_tr = gaussian_ovr.predict(x_train)\n",
    "acc_te = accuracy_score(y_test,yhat_te)\n",
    "acc_tr = accuracy_score(y_train,yhat_tr)\n",
    "print(f'Test data accuracy of best model is {acc_te*100}%')\n",
    "print(f'Training data accuracy of best model is {acc_tr*100}%')"
   ]
  },
  {
   "cell_type": "code",
   "execution_count": 40,
   "id": "hungarian-spoke",
   "metadata": {},
   "outputs": [
    {
     "data": {
      "image/png": "[encoded data removed]",
      "text/plain": [
       "<Figure size 1080x432 with 2 Axes>"
      ]
     },
     "metadata": {
      "needs_background": "light"
     },
     "output_type": "display_data"
    }
   ],
   "source": [
    "# confusion matrix for best model on training and test data\n",
    "gamma , c = 1 , 0.001\n",
    "classifier = SVC(kernel = 'rbf' , gamma = gamma , C = c) \n",
    "gaussian_ovr = OneVsRestClassifier(classifier)\n",
    "gaussian_ovr.fit(x_train,y_train)\n",
    "\n",
    "yhat_te= gaussian_ovr.predict(x_test)\n",
    "yhat_tr = gaussian_ovr.predict(x_train)\n",
    "\n",
    "fig = plt.figure(figsize=(15,6))\n",
    "plt.suptitle(f'confusion matrix of gaussian svm with ovr approach on:')\n",
    "for i in range(2):\n",
    "    plt.subplot(1,2,i+1)\n",
    "    cf = confusion_matrix(y_train,yhat_tr,normalize='true') if i==0 else confusion_matrix(y_test,yhat_te,normalize='true')\n",
    "    sns.heatmap(cf,annot=True,fmt='.2%',cmap='Blues',cbar=False,xticklabels=classes, yticklabels=classes)\n",
    "    plt.yticks(rotation=45)\n",
    "    plt.xlabel('Predicted Class')\n",
    "    plt.ylabel('Actual Class')\n",
    "    plt.title('Training Data' if i==0 else 'Test Data') \n",
    "plt.show()"
   ]
  },
  {
   "cell_type": "code",
   "execution_count": null,
   "id": "oriental-providence",
   "metadata": {},
   "outputs": [],
   "source": []
  }
 ],
 "metadata": {
  "kernelspec": {
   "display_name": "Python 3",
   "language": "python",
   "name": "python3"
  },
  "language_info": {
   "codemirror_mode": {
    "name": "ipython",
    "version": 3
   },
   "file_extension": ".py",
   "mimetype": "text/x-python",
   "name": "python",
   "nbconvert_exporter": "python",
   "pygments_lexer": "ipython3",
   "version": "3.8.8"
  }
 },
 "nbformat": 4,
 "nbformat_minor": 5
}
